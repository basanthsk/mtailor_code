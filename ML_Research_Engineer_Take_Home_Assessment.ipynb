{
  "cells": [
    {
      "cell_type": "markdown",
      "metadata": {
        "id": "5Vu93d2olS3m"
      },
      "source": [
        "# Design and Train an object detector to detect objects\n",
        "\n",
        "You have to design and implement a Training Pipeline that can train, test and visualize the model using the dataset provided.\n",
        "\n",
        "## Assignment Protocols\n",
        "\n",
        "- We expect it to take ~3 hours, with an extra 15 min for clear loom explanation(s)\n",
        "  - The assessment is timeboxed at 4 hours total in a single block. So please plan accordingly\n",
        "- You need to use Google Collaboratory to run and edit this notebook\n",
        "- You can only use Python as a programming Language\n",
        "- You cannot take help from any other person\n",
        "- You can use Google to search for references\n",
        "- You can not search on google for design-related things, like what should be loss function, or what should be model architecture.\n",
        "  - But you can use pre-trained backbones from PyTorch\n",
        "- Record a 5-10 mins of code walkthrough of the work you have done. You can use Loom Platform (https://www.loom.com) to record the video.\n",
        "  - Design Decisions\n",
        "    - Model Design which layers and activation functions you used and why\n",
        "    - Loss function, which loss functions you used and why\n",
        "    - What metrics in test function you would update and why?\n",
        "  - Any optimizations you have made to the codebase\n",
        "  - How you implemented resume functionality, what were the things you thought would be needed to resume training from exact same point\n",
        "  - Explain what parts of the assessment are completed and what is missing?\n",
        "  - Make sure to submit the screen recording link in the submission after you are done recording\n",
        "  - Please note that the free plan on Loom only allows for videos up to 5 minutes in length. As such, you may need to record two separate 5-minute videos.\n",
        "- [NO SUBMISSION WILL BE ACCEPTED WITHOUT]\n",
        "  - Trained best model weights\n",
        "  - Visualize Function in the Notebook\n",
        "  - Code Walk-through video\n",
        "\n",
        "## Task Details\n",
        "Design a Training Pipeline to train a object detector with following specs or assumptions:\n",
        "- Implement & Design Model\n",
        "  - You can use any backbone\n",
        "    - Either from PyTorch (torhvision) or any resource online\n",
        "    - But you need to design head your self (head means how you will use features of the back bone and get the desired outputs)\n",
        "  - Model needs to detect one object in each image\n",
        "  - Model should output following for each image passed as input:\n",
        "    - Whether we have an object or not\n",
        "    - Where is the object?\n",
        "      - The bounding box output format should be xmin, ymin, xmax, ymax\n",
        "      - It is not necessary the model is trained to output exactly this format but the visualize function which shows output should output in this format\n",
        "    - Either the object is a cat or dog?\n",
        "    - And which specie the object belongs to? There are in total 9 species: \n",
        "      - Cat [3 species]:\n",
        "        - Abyssinian\n",
        "        - Birman\n",
        "        - Persian\n",
        "      - Dog [6 species]\n",
        "        - american_bulldog\n",
        "        - american_pit_bull_terrier\n",
        "        - basset_hound\n",
        "        - beagle\n",
        "        - chihuahua\n",
        "        - pomeranian\n",
        "- Implement Custom Dataloader\n",
        "  - This is obvious as dataset is in a unique format any predifined dataloader wont work\n",
        "  - Follow best practices of writing custom dataloaders\n",
        "  - Details of the format of the dataset are defined in the Dataset Details section below\n",
        "  - Add needed pre-processing that you think would help train a better model or would help as we are using pre-trained weights as starting point\n",
        "  - Add augmentations that you think would help train a better model\n",
        "- Implement Loss Function\n",
        "  - Design and implement a loss function that can handle all of the outputs we have\n",
        "  - You can use pytorch built-in loss functions\n",
        "  - There are many scenarios which you need to handle, which one can understand from the dataset details and the model design\n",
        "- Update Resume Training Functionality using the best weights\n",
        "  - Current script does not have save best weights functionality\n",
        "  - The code should be able to resume training from exactly same point from where the training was stopped if model weights file is passed\n",
        "  - Keep in mind you can not resume training from same point by just loading weights of the model\n",
        "- Implement a visualize function [Most important, without this no submission will be accepted]\n",
        "  - The input of the function should be path of a folder with images and the weight file\n",
        "    - Also the output folder path to save outputs\n",
        "  - This function should return a dictionary of dictionaries with following details for each image:\n",
        "    - {\n",
        "        \"has_object\": True,\n",
        "        \"cat_or_dog\": \"cat\",\n",
        "        \"specie\": \"persian\",\n",
        "        \"xmin\": 10,\n",
        "        \"ymin\": 10,\n",
        "        \"xmax\": 10,\n",
        "        \"ymax\": 10\n",
        "    }\n",
        "  - And in case there is no object it should have 0 for bbox values, \"NA\" for \"cat_or_dog\" and \"specie\", and False for \"has_object\".\n",
        "  - Values of the returned dictionary should be like explained above and keys should be image names including the extension \".jpg\" or \".jpeg\"\n",
        "  - Should save output image with bounding box drawn on it, with same name input image but place in the output folder \n",
        "- Try to train the best model\n",
        "- Test function is already provided. It would be best to complete other parts and then touch it if needed\n",
        "  - The metrics choosen can be wrong, so just review the selection of metrics and update if needed at the end after you have implemented other parts\n",
        "\n",
        "\n",
        "## Dataset Details\n",
        "The dataset has in total 1041 images. Each image has a single object which is either a cat or a dog.\n",
        "- There are multiple species for both cat and dog.\n",
        "- The number of images falling in each specie is as follows:\n",
        "  - basset_hound: 93\n",
        "  - Birman: 93\n",
        "  - pomeranian: 93\n",
        "  - american_pit_bull_terrier: 93\n",
        "  - american_bulldog: 93\n",
        "  - Abyssinian: 92\n",
        "  - beagle: 93\n",
        "  - Persian: 93\n",
        "  - chihuahua: 93\n",
        "  - empty: 142\n",
        "- The dataset has two folders:\n",
        "  - images\n",
        "    - Inside images folder we have 986 images in .jpg folder\n",
        "  - labels\n",
        "    - Inside labels folder we have 899 .xml files each file with details of image labels\n",
        "    - For any image that does not have a cat or dog, there is no corresponding xml file\n",
        "\n",
        "## Deliverable\n",
        "- Updated Colab Based Jupyter Notebook:\n",
        "  - With all the required functionality Implemented\n",
        "  - Which one can train the model without any errors\n",
        "  - One should achieve same metrics (Almost same metrics) if I run training using this collab notebook\n",
        "    - Set default values for everything accordingly in the notebook\n",
        "  - During evaluation we will just run the notebook and use the best weights the notebook saves automatically\n",
        "- Best weights you have trained\n",
        "  - We will Evaluate your weights against hold-out test we have and compare results\n",
        "  - We will use visualize function to generate outputs for each image\n",
        "  - Upload weights in an easily downloadable location like, Dropbox, Google Drive, Github, etc\n",
        "- A video code-walk through explaining your design decisions including but not limited to:\n",
        "  - Design Decisions\n",
        "    - Model Design which layers and activation functions you used and why\n",
        "    - Loss function, which loss functions you used and why\n",
        "    - What metrics in test function you would update and why?\n",
        "  - Any optimizations you have made to the codebase\n",
        "  - How you implemented resume functionality, what were the things you thought would be needed to resume training from exact same point\n",
        "  - Explain what parts of the assessment are completed and what is missing?\n",
        "\n",
        "## Evaluation Criteria\n",
        " - Design Decisions\n",
        " - Completeness: Did you include all features?\n",
        " - Correctness: Does the solution (all deliverables) work in sensible, thought-out ways?\n",
        " - Maintainability: Is the code written in a clean, maintainable way?\n",
        " - Testing: Is the solution adequately tested?\n",
        " - Documentation: Is the codebase well-documented and has proper steps to run any of the deliverables?\n",
        "\n",
        "## Extra Points\n",
        "- Any Updates in the notebook (Bugs/Implementation Mistakes etc)\n",
        "\n",
        "## How to submit\n",
        "- Please upload the Notebook for this project to GitHub, and post a link to your repository below [repo link box, on the left of submit button].\n",
        "  - Create a new GitHub repository from scratch\n",
        "  - Add the final Colab/Jupyter notebook to the repository\n",
        "- Please upload video and your final best weights on Google Drive or any other platform, and paste the link to the folder with both video and model in the text box just above the submit button.\n",
        "- Please paste the commit Id of the latest commit of your Github Repo, which should not be later than 5 hours of time when the repo was created.\n",
        "  - Please note the submission without the commit id will not be considered."
      ]
    },
    {
      "cell_type": "markdown",
      "metadata": {
        "id": "KE_rGh4kod4n"
      },
      "source": [
        "# Install Required Modules"
      ]
    },
    {
      "cell_type": "code",
      "execution_count": 1,
      "metadata": {
        "id": "magQ0ErkoOIR"
      },
      "outputs": [],
      "source": [
        "! pip install bs4 lxml kaggle torchmetrics --quiet"
      ]
    },
    {
      "cell_type": "markdown",
      "metadata": {
        "id": "Bw3F4t1eaLl6"
      },
      "source": [
        "# Download Dataset from Kaggle"
      ]
    },
    {
      "cell_type": "code",
      "execution_count": 2,
      "metadata": {
        "id": "59RSpyzRaOVj"
      },
      "outputs": [],
      "source": [
        "import os\n",
        "os.environ['KAGGLE_USERNAME'] = 'bilalyousaf0014'\n",
        "os.environ['KAGGLE_KEY'] = '11031bc21c5e3ec23585dbe17dc4267d'"
      ]
    },
    {
      "cell_type": "code",
      "execution_count": 3,
      "metadata": {
        "id": "plZEhi_oaPPn"
      },
      "outputs": [],
      "source": [
        "!kaggle datasets download -d bilalyousaf0014/ml-engineer-assessment-dataset --quiet"
      ]
    },
    {
      "cell_type": "code",
      "execution_count": 4,
      "metadata": {
        "id": "d6jkCK0uaxRT",
        "colab": {
          "base_uri": "https://localhost:8080/"
        },
        "outputId": "f10cad94-8afb-4d72-b26f-8b1fc9569b52"
      },
      "outputs": [
        {
          "output_type": "stream",
          "name": "stdout",
          "text": [
            "Archive:  /content/ml-engineer-assessment-dataset.zip\n",
            "replace assessment_dataset/images/00001.jpeg? [y]es, [n]o, [A]ll, [N]one, [r]ename: "
          ]
        }
      ],
      "source": [
        "! unzip /content/ml-engineer-assessment-dataset.zip"
      ]
    },
    {
      "cell_type": "markdown",
      "metadata": {
        "id": "PMEbUqsPl9s4"
      },
      "source": [
        "# MODEL IMPLEMENTATION:"
      ]
    },
    {
      "cell_type": "code",
      "execution_count": 1,
      "metadata": {
        "id": "uXb6eKgFmNzx"
      },
      "outputs": [],
      "source": [
        "import os\n",
        "import torch\n",
        "import torch.nn as nn\n",
        "import numpy as np\n",
        "\n",
        "from torchvision.models import resnet18, ResNet18_Weights"
      ]
    },
    {
      "cell_type": "code",
      "execution_count": 60,
      "metadata": {
        "id": "BtSgG4OklRte"
      },
      "outputs": [],
      "source": [
        "class Model(nn.Module):\n",
        "\n",
        "  def __init__(self,num_classes=9):\n",
        "    super(Model, self).__init__()\n",
        "    self.num_classes = num_classes\n",
        "    pretrained_model = resnet18(weights=ResNet18_Weights.DEFAULT)\n",
        "    self.backbone = nn.Sequential(*list(pretrained_model.children())[:-2])\n",
        "    \n",
        "    self.object_presence = nn.Sequential(\n",
        "            nn.AdaptiveAvgPool2d(1),\n",
        "            nn.Flatten(),\n",
        "            nn.Linear(512, 1),\n",
        "            nn.Sigmoid())\n",
        "    \n",
        "    self.bbox = nn.Sequential(\n",
        "            nn.AdaptiveAvgPool2d(1),\n",
        "            nn.Flatten(),\n",
        "            nn.Linear(512, 4 * num_classes)\n",
        "        )\n",
        "    \n",
        "    self.cat_or_dog = nn.Sequential(\n",
        "        nn.AdaptiveAvgPool2d(1),\n",
        "        nn.Flatten(),\n",
        "        nn.Linear(512, 2))\n",
        "    \n",
        "    self.specie = nn.Sequential(\n",
        "        nn.AdaptiveAvgPool2d(1),\n",
        "        nn.Flatten(),\n",
        "        nn.Linear(512, num_classes))\n",
        "    ### Initialize the required Layers\n",
        "\n",
        "  def forward(self, input):\n",
        "      out_backbone = self.backbone(input)\n",
        "      object_presence = self.object_presence(out_backbone)\n",
        "      bbox_features = self.bbox(out_backbone)\n",
        "      bbox = bbox_features.view(-1, self.num_classes, 4)  \n",
        "      cat_or_dog = self.cat_or_dog(out_backbone)\n",
        "      specie = self.specie(out_backbone)\n",
        "      ### Write Forward Calls for the Model\n",
        "\n",
        "      return {\n",
        "          \"bbox\": bbox,\n",
        "          \"object\": object_presence,\n",
        "          \"cat_or_dog\": cat_or_dog,\n",
        "          \"specie\": specie\n",
        "      }\n"
      ]
    },
    {
      "cell_type": "markdown",
      "metadata": {
        "id": "avxCQ2W-oGxV"
      },
      "source": [
        "# CUSTOM DATALOADER IMPLEMENTATION"
      ]
    },
    {
      "cell_type": "code",
      "execution_count": 3,
      "metadata": {
        "id": "ZNds6zOg8w5A"
      },
      "outputs": [],
      "source": [
        "train_list = np.load('/content/assessment_dataset/train_list.npy', allow_pickle=True).tolist()\n",
        "val_list = np.load('/content/assessment_dataset/val_list.npy', allow_pickle=True).tolist()"
      ]
    },
    {
      "cell_type": "code",
      "execution_count": 4,
      "metadata": {
        "id": "E30zu6ICmKOL"
      },
      "outputs": [],
      "source": [
        "from bs4 import BeautifulSoup\n",
        "\n",
        "def read_xml_file(path):\n",
        "    with open(path, 'r') as f:\n",
        "        data = f.read()\n",
        "    bs_data = BeautifulSoup(data, 'xml')\n",
        "    return {\n",
        "        \"cat_or_dog\": bs_data.find(\"name\").text,\n",
        "        \"xmin\": int(bs_data.find(\"xmin\").text),\n",
        "        \"ymin\": int(bs_data.find(\"ymin\").text),\n",
        "        \"xmax\": int(bs_data.find(\"xmax\").text),\n",
        "        \"ymax\": int(bs_data.find(\"ymax\").text),\n",
        "        \"specie\": \"_\".join(path.split(os.sep)[-1].split(\"_\")[:-1])\n",
        "    }"
      ]
    },
    {
      "cell_type": "code",
      "execution_count": 5,
      "metadata": {
        "id": "z16n7BbnoviB"
      },
      "outputs": [],
      "source": [
        "from PIL import Image\n",
        "from torch.utils.data import Dataset\n",
        "import torchvision.transforms as transforms\n",
        "import xml.etree.ElementTree as ET\n",
        "\n",
        "class CustomDataset(Dataset):\n",
        "    def __init__(self, dataset_path, images_list, train=False, transform=None):\n",
        "        self.preprocess = transform\n",
        "\n",
        "        self.image_paths = []\n",
        "        self.bboxes = []\n",
        "        self.labels = []\n",
        "\n",
        "        image_folder_path = os.path.join(dataset_path, \"images\")\n",
        "        label_folder_path = os.path.join(dataset_path, \"labels\")\n",
        "\n",
        "        for path in os.listdir(image_folder_path):\n",
        "            name = path.split(os.sep)[-1].split(\".\")[0]\n",
        "            if name in images_list:\n",
        "                xml_path = os.path.join(label_folder_path, name + \".xml\")\n",
        "                image_path = os.path.join(image_folder_path, path)\n",
        "                \n",
        "                if os.path.exists(xml_path):\n",
        "                  annotation = read_xml_file(xml_path)\n",
        "                  label = annotation[\"cat_or_dog\"]\n",
        "                  bbox = [\n",
        "                      annotation[\"xmin\"],\n",
        "                      annotation[\"ymin\"],\n",
        "                      annotation[\"xmax\"],\n",
        "                      annotation[\"ymax\"]\n",
        "                  ]\n",
        "                  specie = annotation[\"specie\"]\n",
        "                # else:\n",
        "                #   label = None\n",
        "                #   bbox = None\n",
        "                #   specie = None  \n",
        "\n",
        "                self.image_paths.append(image_path)\n",
        "                self.bboxes.append(bbox)\n",
        "                self.labels.append((label, specie))\n",
        "\n",
        "    def __len__(self):\n",
        "        return len(self.image_paths)\n",
        "\n",
        "    def __getitem__(self, index):\n",
        "        image_path = self.image_paths[index]\n",
        "        image = Image.open(image_path).convert(\"RGB\")\n",
        "        bbox = self.bboxes[index]\n",
        "        label, specie = self.labels[index]\n",
        "\n",
        "        if self.preprocess is not None:\n",
        "            image, bbox = self.preprocess(image, bbox)\n",
        "\n",
        "        return image, bbox, label, specie\n",
        "\n",
        "    "
      ]
    },
    {
      "cell_type": "code",
      "source": [
        "class Compose(object):\n",
        "    def __init__(self, transforms):\n",
        "        self.transforms = transforms\n",
        "\n",
        "    def __call__(self, img, bboxes):\n",
        "        for t in self.transforms:\n",
        "            img, bboxes = t(img), bboxes\n",
        "\n",
        "        return img, bboxes"
      ],
      "metadata": {
        "id": "G9hsjqFnwvTT"
      },
      "execution_count": 6,
      "outputs": []
    },
    {
      "cell_type": "code",
      "source": [
        "transform = Compose([transforms.Resize((224, 224)), transforms.ToTensor(),])"
      ],
      "metadata": {
        "id": "0Y23z0D1wyNn"
      },
      "execution_count": 13,
      "outputs": []
    },
    {
      "cell_type": "markdown",
      "metadata": {
        "id": "hkbn3C3cqahY"
      },
      "source": [
        "# TRAINING LOOP IMPLEMENTATION"
      ]
    },
    {
      "cell_type": "code",
      "source": [
        "import torch.optim as optim\n",
        "from torch.utils.data import DataLoader\n",
        "\n",
        "# Set device\n",
        "device = torch.device(\"cuda\" if torch.cuda.is_available() else \"cpu\")\n",
        "\n",
        "# Define hyperparameters\n",
        "batch_size = 32\n",
        "learning_rate = 0.001\n",
        "num_epochs = 10\n",
        "\n",
        "# Define the datapath\n",
        "datapath = '/content/assessment_dataset/'\n",
        "\n",
        "# Instantiate the dataset and dataloader\n",
        "train_dataset = CustomDataset(datapath, train_list, train=True, transform=transform)\n",
        "train_dataloader = DataLoader(train_dataset, batch_size=batch_size, shuffle=True)\n",
        "\n",
        "\n",
        "val_dataset = CustomDataset(datapath, val_list, train=False, transform=transform)\n",
        "val_loader = DataLoader(val_dataset, batch_size=batch_size, shuffle=False)\n",
        "\n",
        "# Instantiate the model\n",
        "model = Model(num_classes=9).to(device)\n",
        "\n",
        "\n",
        "# Define the loss functions\n",
        "criterion_bbox = nn.MSELoss()\n",
        "criterion_object = nn.BCELoss()\n",
        "criterion_cat_or_dog = nn.CrossEntropyLoss()\n",
        "criterion_specie = nn.CrossEntropyLoss()\n",
        "\n",
        "\n",
        "\n",
        "# Define the optimizer\n",
        "optimizer = optim.Adam(model.parameters(), lr=learning_rate)"
      ],
      "metadata": {
        "id": "mLXf_J5Eq6gs"
      },
      "execution_count": 77,
      "outputs": []
    },
    {
      "cell_type": "code",
      "source": [
        "# Create mappings for labels and species\n",
        "label_mapping = {}\n",
        "species_mapping = {}\n",
        "for _, _, label, species in train_dataset:\n",
        "    # Add labels to the mapping\n",
        "    if label is not None and label not in label_mapping:\n",
        "        label_mapping[label] = len(label_mapping)\n",
        "\n",
        "    # Add species to the mapping\n",
        "    if species is not None and species not in species_mapping:\n",
        "        species_mapping[species] = len(species_mapping)"
      ],
      "metadata": {
        "id": "lznNUDNM0Kzs"
      },
      "execution_count": 9,
      "outputs": []
    },
    {
      "cell_type": "code",
      "source": [
        "label_mapping"
      ],
      "metadata": {
        "colab": {
          "base_uri": "https://localhost:8080/"
        },
        "id": "JPROwZMc2fi5",
        "outputId": "df363fcf-abe5-4c2d-b2fa-3fe98bd153f9"
      },
      "execution_count": 10,
      "outputs": [
        {
          "output_type": "execute_result",
          "data": {
            "text/plain": [
              "{'dog': 0, 'cat': 1}"
            ]
          },
          "metadata": {},
          "execution_count": 10
        }
      ]
    },
    {
      "cell_type": "code",
      "source": [
        "species_mapping"
      ],
      "metadata": {
        "colab": {
          "base_uri": "https://localhost:8080/"
        },
        "id": "5OuYgxTr2hWs",
        "outputId": "6ca06aef-7bc3-47b3-acf8-5c3bf24cbce6"
      },
      "execution_count": 11,
      "outputs": [
        {
          "output_type": "execute_result",
          "data": {
            "text/plain": [
              "{'pomeranian': 0,\n",
              " 'beagle': 1,\n",
              " 'american_pit_bull_terrier': 2,\n",
              " 'basset_hound': 3,\n",
              " 'american_bulldog': 4,\n",
              " 'Birman': 5,\n",
              " 'chihuahua': 6,\n",
              " 'Persian': 7,\n",
              " 'Abyssinian': 8}"
            ]
          },
          "metadata": {},
          "execution_count": 11
        }
      ]
    },
    {
      "cell_type": "code",
      "source": [
        "# Training loop\n",
        "for epoch in range(num_epochs):\n",
        "    total_loss = 0\n",
        "\n",
        "    # Training phase\n",
        "    model.train()\n",
        "    for images, bboxes, labels, species in train_dataloader:\n",
        "        # Move data to the appropriate device\n",
        "        images = images.to(device)\n",
        "        bboxes = [bbox.to(device) for bbox in bboxes]  # Move each bounding box to device\n",
        "\n",
        "        # Encode categorical labels\n",
        "        label_tensor = torch.tensor([label_mapping[label] for label in labels]).to(device)\n",
        "        species_tensor = torch.tensor([species_mapping[specie] for specie in species]).to(device)\n",
        "\n",
        "        # Zero the gradients\n",
        "        optimizer.zero_grad()\n",
        "\n",
        "        # Forward pass\n",
        "        outputs = model(images)\n",
        "\n",
        "        \n",
        "        # Compute the losses\n",
        "        # loss_bbox = criterion_bbox(outputs[\"bbox\"], bboxes)\n",
        "        loss_object = criterion_object(outputs[\"object\"], label_tensor.view(-1, 1).float())\n",
        "        loss_cat_or_dog = criterion_cat_or_dog(outputs[\"cat_or_dog\"], label_tensor)\n",
        "        loss_specie = criterion_specie(outputs[\"specie\"], species_tensor)\n",
        "\n",
        "        # Total loss\n",
        "        loss =  loss_object + loss_cat_or_dog + loss_specie\n",
        "        total_loss += loss.item()\n",
        "\n",
        "        # Backward pass and optimization\n",
        "        loss.backward()\n",
        "        optimizer.step()\n",
        "\n",
        "    # Print the average loss for this epoch\n",
        "    avg_loss = total_loss / len(train_dataloader)\n",
        "    print(f\"Epoch [{epoch+1}/{num_epochs}], Loss: {avg_loss:.4f}\")\n"
      ],
      "metadata": {
        "colab": {
          "base_uri": "https://localhost:8080/"
        },
        "id": "ctMG3ZnRtkVQ",
        "outputId": "3730face-3533-41ec-835c-ff3477d99c7d"
      },
      "execution_count": 76,
      "outputs": [
        {
          "output_type": "stream",
          "name": "stdout",
          "text": [
            "Epoch [1/10], Loss: 1.6809\n",
            "Epoch [2/10], Loss: 1.0704\n",
            "Epoch [3/10], Loss: 0.7424\n",
            "Epoch [4/10], Loss: 0.5514\n",
            "Epoch [5/10], Loss: 0.5767\n",
            "Epoch [6/10], Loss: 0.4793\n",
            "Epoch [7/10], Loss: 0.3282\n",
            "Epoch [8/10], Loss: 0.3877\n",
            "Epoch [9/10], Loss: 0.4783\n",
            "Epoch [10/10], Loss: 0.2971\n"
          ]
        }
      ]
    },
    {
      "cell_type": "markdown",
      "metadata": {
        "id": "SxODf-DLqmPA"
      },
      "source": [
        "## Initializations"
      ]
    },
    {
      "cell_type": "code",
      "execution_count": null,
      "metadata": {
        "id": "Drkrrx8pqjzM"
      },
      "outputs": [],
      "source": [
        "from torch.utils.data import DataLoader"
      ]
    },
    {
      "cell_type": "code",
      "execution_count": null,
      "metadata": {
        "id": "1k8jvr7EqaPz"
      },
      "outputs": [],
      "source": [
        "\n",
        "\n",
        "################################## HELPER CODE PROVIDED BY HIRING TEAM ##################################\n",
        "\"\"\"\n",
        "This codebase is provided to help you finish the assessment in time. \n",
        "Yes, this code is not optimized, and properly formated. And there can be bugs, but best option\n",
        "for you is to use it as it is until you are done with all other aspects of the codebase. And then\n",
        "If you think that you are not able to achieve good results becuase this test function is problematic,\n",
        "then you can update it.\n",
        "\"\"\"\n",
        "import torchmetrics\n",
        "\n",
        "def test(model, val_loader):\n",
        "\n",
        "  def __tl(x):\n",
        "    return x.tolist()\n",
        "\n",
        "  def __tn(x):\n",
        "    return x.detach().cpu().numpy()\n",
        "\n",
        "  def __tnl(x):\n",
        "    return (x.detach().cpu().numpy()).tolist()\n",
        "\n",
        "  def post_process_object(x):\n",
        "    return torch.where(x > 0.5, 1.0, 0.0).squeeze(1)\n",
        "\n",
        "  def post_process_cat_or_dog(x):\n",
        "    return torch.where(x > 0.5, 1.0, 0.0).squeeze(1)\n",
        "\n",
        "  def post_process_specie(x):\n",
        "    return torch.argmax(x, dim=1)\n",
        "\n",
        "  def post_process_xmin(x):\n",
        "    return x\n",
        "\n",
        "  def post_process_ymin(x):\n",
        "    return x\n",
        "\n",
        "  def post_process_xmax(x):\n",
        "    return x\n",
        "\n",
        "  def post_process_ymax(x):\n",
        "    return x\n",
        "\n",
        "  def iou(\n",
        "      out_xmin,\n",
        "      out_ymin,\n",
        "      out_xmax,\n",
        "      out_ymax,\n",
        "      lab_xmin,\n",
        "      lab_ymin,\n",
        "      lab_xmax,\n",
        "      lab_ymax\n",
        "    ):\n",
        "    min_box_x = torch.max(out_xmin, lab_xmin)\n",
        "    min_box_y = torch.max(out_ymin, lab_ymin)\n",
        "    max_box_x = torch.min(out_xmax, lab_xmax)\n",
        "    max_box_y = torch.min(out_ymax, lab_ymax)\n",
        "    # print(out_xmin, out_ymin, out_xmax, out_ymax)\n",
        "    area_over = (\n",
        "        torch.max(torch.tensor([0]), (max_box_x-min_box_x+torch.tensor(1.0)))\n",
        "        *torch.max(torch.tensor([0]), max_box_y-min_box_y+torch.tensor(1.0))\n",
        "      )\n",
        "    area_box_1 = (out_xmax-out_xmin+1)*(out_ymax-out_ymin+1)\n",
        "    area_box_2 = (lab_xmax-lab_xmin+1)*(lab_ymax-lab_ymin+1)\n",
        "    iou = torch.abs(area_over / (area_box_1 + area_box_2 - area_over))\n",
        "    iou_val = torch.mean(iou)\n",
        "    return iou_val\n",
        "\n",
        "  metric_object = torchmetrics.F1Score(task=\"binary\")\n",
        "  metric_cat_or_dog = torchmetrics.F1Score(task=\"binary\")\n",
        "  metric_specie = torchmetrics.F1Score(task=\"multiclass\", num_classes=9)\n",
        "\n",
        "  output_list = {\n",
        "      \"object\": [],\n",
        "      \"cat_or_dog\": [],\n",
        "      \"specie\": [],\n",
        "      \"xmin\": [],\n",
        "      \"ymin\": [],\n",
        "      \"xmax\": [],\n",
        "      \"ymax\": [],\n",
        "  }\n",
        "  labels_list = {\n",
        "      \"object\": [],\n",
        "      \"cat_or_dog\": [],\n",
        "      \"specie\": [],\n",
        "      \"xmin\": [],\n",
        "      \"ymin\": [],\n",
        "      \"xmax\": [],\n",
        "      \"ymax\": [],\n",
        "  }\n",
        "\n",
        "  for i, data in enumerate(val_loader):\n",
        "    inputs, labels = data\n",
        "    if torch.cuda.is_available():\n",
        "      inputs = inputs.cuda()\n",
        "      # for key, value in labels.items():\n",
        "      #     labels[key] = labels[key].cuda()\n",
        "\n",
        "    # Make predictions for this batch\n",
        "    outputs = model(inputs)\n",
        "\n",
        "    is_object = __tnl(labels[\"have_object\"])\n",
        "    width = __tn(labels[\"width\"])\n",
        "    height = __tn(labels[\"height\"])\n",
        "    output_list[\"object\"].extend(__tnl(post_process_object(outputs[\"object\"])))\n",
        "    labels_list[\"object\"].extend(__tnl(labels[\"have_object\"]))\n",
        "\n",
        "    if is_object[0] == 1.0:\n",
        "      output_list[\"cat_or_dog\"].extend(\n",
        "        __tnl(post_process_cat_or_dog(outputs[\"cat_or_dog\"]))\n",
        "      )\n",
        "      labels_list[\"cat_or_dog\"].extend(\n",
        "        __tnl(labels[\"cat_or_dog\"])\n",
        "      )\n",
        "      output_list[\"specie\"].extend(\n",
        "        __tnl(post_process_specie(outputs[\"specie\"]))\n",
        "      )\n",
        "      labels_list[\"specie\"].extend(__tnl(labels[\"specie\"]))\n",
        "      output_list[\"xmin\"].extend(\n",
        "        __tl(__tn(post_process_xmin(outputs[\"bbox\"][:, 0]))*width)\n",
        "      )\n",
        "      labels_list[\"xmin\"].extend(__tl(__tn(labels[\"xmin\"])*width))\n",
        "      output_list[\"ymin\"].extend(\n",
        "          __tl(__tn(post_process_ymin(outputs[\"bbox\"][:, 1]))*height)\n",
        "      )\n",
        "      labels_list[\"ymin\"].extend(\n",
        "          __tl(__tn(labels[\"ymin\"])*height)\n",
        "      )\n",
        "      output_list[\"xmax\"].extend(\n",
        "          __tl(__tn(post_process_xmax(outputs[\"bbox\"][:, 2]))*width)\n",
        "      )\n",
        "      labels_list[\"xmax\"].extend(__tl(__tn(labels[\"xmax\"])*width))\n",
        "      output_list[\"ymax\"].extend(__tl(__tn(post_process_ymax(outputs[\"bbox\"][:, 3]))*height))\n",
        "      labels_list[\"ymax\"].extend(__tl(__tn(labels[\"ymax\"])*height))\n",
        "  \n",
        "  f1_score_object = metric_object(torch.tensor(output_list[\"object\"]), torch.tensor(labels_list[\"object\"]))\n",
        "  f1_score_cat_or_dog = metric_cat_or_dog(torch.tensor(output_list[\"cat_or_dog\"]), torch.tensor(labels_list[\"cat_or_dog\"]))\n",
        "  f1_score_specie = metric_specie(torch.tensor(output_list[\"specie\"]), torch.tensor(labels_list[\"specie\"]))\n",
        "  mean_iou = iou(\n",
        "      torch.tensor(output_list[\"xmin\"]),\n",
        "      torch.tensor(output_list[\"ymin\"]),\n",
        "      torch.tensor(output_list[\"xmax\"]),\n",
        "      torch.tensor(output_list[\"ymax\"]),\n",
        "      torch.tensor(labels_list[\"xmin\"]),\n",
        "      torch.tensor(labels_list[\"ymin\"]),\n",
        "      torch.tensor(labels_list[\"xmax\"]),\n",
        "      torch.tensor(labels_list[\"ymin\"]),\n",
        "  )\n",
        "  return f1_score_object, f1_score_cat_or_dog, f1_score_specie, mean_iou\n",
        "################################## HELPER CODE PROVIDED BY HIRING TEAM ##################################\n",
        "\n",
        "\n",
        "def train(epochs, model_weights):\n",
        "\n",
        "  # Initialize Model and Optimizer\n",
        "  model = Model()\n",
        "\n",
        "  optimizer = optimizer\n",
        "\n",
        "  # Initialize Loss Functions\n",
        "  # Define the loss functions\n",
        "\n",
        "\n",
        "  have_object_loss = nn.BCELoss()\n",
        "  specie_loss = nn.CrossEntropyLoss()\n",
        "  cat_or_dog_loss = nn.CrossEntropyLoss()\n",
        "  bbox_loss = nn.MSELoss() # Not necessary you need to apply function to all coordinates together, You can have separete loss functions for all coordinates too\n",
        "  # Below or Above\n",
        "  xmin_loss = nn.MSELoss()\n",
        "  ymin_loss = nn.MSELoss()\n",
        "  xmax_loss = nn.MSELoss()\n",
        "  ymax_loss = nn.MSELoss()\n",
        "\n",
        "  training_dataset = CustomDataset(\"/content/assessment_dataset\", images_list=train_list,transform=transform)\n",
        "  training_loader = DataLoader(train_dataset, batch_size=batch_size, shuffle=True)\n",
        "\n",
        "  if torch.cuda.is_available():\n",
        "    model = model.cuda()\n",
        "\n",
        "  def train_one_epoch(epoch_index, tb_writer):\n",
        "      running_loss = 0.\n",
        "      last_loss = 0.\n",
        "\n",
        "      # Here, we use enumerate(training_loader) instead of\n",
        "      # iter(training_loader) so that we can track the batch\n",
        "      # index and do some intra-epoch reporting\n",
        "      for i, data in enumerate(training_loader):\n",
        "          # Every data instance is an input + label pair\n",
        "          inputs, labels = data\n",
        "\n",
        "          # Make predictions for this batch\n",
        "          outputs = model(inputs)\n",
        "\n",
        "          # Compute the loss and its gradients\n",
        "          loss_have_object = have_object_loss(outputs[\"object\"], None)\n",
        "          loss_specie = specie_loss(outputs[\"specie\"], None)\n",
        "          loss_cat_or_dog = cat_or_dog_loss(outputs[\"cat_or_dog\"], None)\n",
        "          \n",
        "          loss_bbox = bbox_loss(outputs[\"bbox\"], None)\n",
        "          # Above or Below\n",
        "          loss_xmin = xmin_loss(outputs[\"bbox\"], None)\n",
        "          loss_ymin = ymin_loss(outputs[\"bbox\"], None)\n",
        "          loss_xmax = xmax_loss(outputs[\"bbox\"], None)\n",
        "          loss_ymax = ymax_loss(outputs[\"bbox\"], None)\n",
        "\n",
        "          loss =  # Consolidate all individual losses\n",
        "\n",
        "          # Gather data and report\n",
        "          running_loss += loss.item()\n",
        "          if i % 10 == 0:\n",
        "              last_loss = running_loss / 10 # loss per batch\n",
        "              running_loss = 0.\n",
        "      return last_loss\n",
        "\n",
        "  for i in range(epochs):\n",
        "\n",
        "    epoch_loss = train_one_epoch(i, None)\n",
        "    print(f' Epoch {i} Loss : {epoch_loss}')\n",
        "\n",
        "    torch.save(\"model.pth\", model.state_dict())\n",
        "    metrics = test(model)\n",
        "    print(metrics)"
      ]
    },
    {
      "cell_type": "markdown",
      "source": [
        "# New Section"
      ],
      "metadata": {
        "id": "5nclRej-LCUJ"
      }
    },
    {
      "cell_type": "markdown",
      "source": [
        "# New Section"
      ],
      "metadata": {
        "id": "0UfqVaQiLCw0"
      }
    },
    {
      "cell_type": "code",
      "execution_count": null,
      "metadata": {
        "colab": {
          "background_save": true
        },
        "id": "8TgRVGPDaUAd"
      },
      "outputs": [],
      "source": [
        "from PIL import ImageDraw\n",
        "\n",
        "def visualize(model_weights, image_folder_path, output_folder=\"output\"):\n",
        "\n",
        "  model = Model()\n",
        "  model.load_state_dict(torch.load(model_weights))\n",
        "\n",
        "  try:\n",
        "    image = Image.open(os.path.join(\"/content/assessment_dataset/images\", image_name+\".jpg\"))\n",
        "  except:\n",
        "    image = Image.open(os.path.join(\"/content/assessment_dataset/images\", image_name+\".jpeg\"))\n",
        "\n",
        "  preprocess = None\n",
        "  output = model()\n",
        "  return {}"
      ]
    },
    {
      "cell_type": "code",
      "execution_count": null,
      "metadata": {
        "id": "u7npVwns6LU6"
      },
      "outputs": [],
      "source": []
    }
  ],
  "metadata": {
    "accelerator": "GPU",
    "colab": {
      "provenance": [],
      "toc_visible": true
    },
    "gpuClass": "standard",
    "kernelspec": {
      "display_name": "Python 3",
      "name": "python3"
    },
    "language_info": {
      "name": "python"
    }
  },
  "nbformat": 4,
  "nbformat_minor": 0
}